{
 "cells": [
  {
   "cell_type": "code",
   "execution_count": 1,
   "id": "aa838cf2",
   "metadata": {},
   "outputs": [
    {
     "data": {
      "text/plain": [
       "True"
      ]
     },
     "execution_count": 1,
     "metadata": {},
     "output_type": "execute_result"
    }
   ],
   "source": [
    "from pinecone import Pinecone, ServerlessSpec\n",
    "from openai import OpenAI\n",
    "import pandas as pd\n",
    "import time\n",
    "import os\n",
    "import dotenv\n",
    "dotenv.load_dotenv()"
   ]
  },
  {
   "cell_type": "code",
   "execution_count": 2,
   "id": "55fec606",
   "metadata": {},
   "outputs": [],
   "source": [
    "token = os.getenv(\"RUNPOD_TOKEN\")\n",
    "open_ai_base_url = os.getenv(\"RUNPOD_EMBEDDING_URL\")\n",
    "model_name = os.getenv(\"MODEL_NAME\")\n",
    "pinecone_api_key = os.getenv(\"PINECONE_API_KEY\")\n",
    "index_name = os.getenv(\"PINECONE_INDEX_NAME\")"
   ]
  },
  {
   "cell_type": "code",
   "execution_count": 3,
   "id": "b9dc82c6",
   "metadata": {},
   "outputs": [],
   "source": [
    "pc = Pinecone(api_key=pinecone_api_key)\n",
    "client = OpenAI(\n",
    "    api_key=token,\n",
    "    base_url=open_ai_base_url\n",
    ")"
   ]
  },
  {
   "cell_type": "code",
   "execution_count": null,
   "id": "625303d5",
   "metadata": {},
   "outputs": [],
   "source": []
  },
  {
   "cell_type": "markdown",
   "id": "0eafca6c",
   "metadata": {},
   "source": [
    "# Try out embeddings"
   ]
  },
  {
   "cell_type": "code",
   "execution_count": 4,
   "id": "05e0796e",
   "metadata": {},
   "outputs": [
    {
     "name": "stdout",
     "output_type": "stream",
     "text": [
      "[0.015215358696877956, -0.02272770367562771, 0.008572462946176529, -0.07437602430582047, 0.003935400862246752, 0.0027780423406511545, -0.03130016475915909, 0.0446622259914875, 0.04399107024073601, -0.007783094421029091, -0.02524453029036522, -0.033374641090631485, 0.014376416802406311, 0.046340107917785645, 0.00868686381727457, -0.0160466730594635, 0.007504718378186226, -0.019005851820111275, -0.11470626294612885, -0.01813640259206295, 0.1262989193201065, 0.029729057103395462, 0.025229275226593018, -0.0341678224503994, -0.04109290614724159, 0.006604762282222509, 0.010349494405090809, 0.02239212580025196, 0.004431139677762985, -0.12776325643062592, -0.016061928123235703, -0.020348157733678818, 0.04737734794616699, 0.011585026979446411, 0.06827463209629059, 0.007413197308778763, -0.018044881522655487, 0.040970880538225174, -0.010196959599852562, 0.02370392717421055, 0.010410508140921593, -0.02846301719546318, 0.008091977797448635, -0.015253492631018162, 0.03090357594192028, -0.06595610082149506, -0.02225484512746334, 0.054027870297431946, 0.002669361187145114, 0.022437887266278267, -0.09188703447580338, -0.04521135240793228, -0.004267164506018162, -0.005575151182711124, -0.005308215506374836, 0.09853755682706833, 0.06049535050988197, 0.007420823909342289, 0.013895931653678417, 0.0026045336853712797, 0.04759089648723602, 0.028722325339913368, -0.1554635912179947, 0.06894578784704208, 0.03027818165719509, -0.017877092584967613, 0.020943045616149902, 0.021309128031134605, 0.013972198590636253, 0.0019943939987570047, 0.00267698778770864, 0.003965908195823431, 0.040970880538225174, 0.06577305495738983, -0.006223424803465605, -0.016305983066558838, 0.008305526338517666, -0.049055229872465134, -0.021049819886684418, -0.03090357594192028, -0.040635302662849426, 0.059275072067976, 0.01806013472378254, -0.044265635311603546, 0.0007059506606310606, -0.028096932917833328, -0.04051327705383301, -0.011333344504237175, -0.025091994553804398, 0.009556313045322895, -0.01735847443342209, -0.026907160878181458, -0.015566188842058182, -0.005556084681302309, -0.04148950055241585, 0.007153887767344713, 0.007001352962106466, 0.009785114787518978, 0.0007331209490075707, 0.343142569065094, -0.09530381858348846, -0.0020763815846294165, 0.02817320078611374, -0.0913989245891571, 0.05964115262031555, 0.02481743134558201, -0.01632123626768589, -0.029134169220924377, -0.008221631869673729, 0.01589413918554783, 0.012790053151547909, -0.06424771249294281, 0.014376416802406311, -0.01384254451841116, 0.0010553509928286076, -0.019280415028333664, 0.05015348270535469, -0.0027971090748906136, 0.09316833317279816, -0.02942398563027382, -0.008152991533279419, 0.03075104020535946, -0.04408259317278862, -0.004129882901906967, 0.05280758813023567, -0.06449176371097565, 0.058268338441848755, 0.07779280841350555, 0.011501133441925049, 0.06992200762033463, -0.005445496644824743, 0.05979368835687637, -0.02643430233001709, -0.008625850081443787, 0.027395272627472878, -0.0143001489341259, -0.018456725403666496, -0.013827290385961533, 0.03535759449005127, -0.05683451145887375, 0.008214005269110203, -0.07681658864021301, -0.022559914737939835, -0.11293685436248779, 0.00032032333547249436, 0.030506985262036324, -0.07333879172801971, 0.02469540387392044, -0.019692258909344673, -0.024115771055221558, -0.03880488499999046, 0.07870802283287048, 0.004919251427054405, -0.0163975041359663, 0.007969949394464493, 0.05497358739376068, -0.012881574220955372, 0.06857970356941223, 0.007634372916072607, 0.008778384886682034, -0.0018313723849132657, -0.012423969805240631, -0.013377312570810318, 0.006650522816926241, -0.01757202297449112, -0.1282513588666916, 0.009998664259910583, 0.019570229575037956, -0.007180581334978342, 0.000892805983312428, 0.0033061944413930178, 0.016443263739347458, -0.03956755995750427, 0.028752833604812622, 0.10970311611890793, 0.007474211044609547, -0.003981161396950483, 0.04457070305943489, -0.04734684154391289, 0.024954713881015778, 0.0599767304956913, -0.05076362192630768, -0.04179456830024719, 0.019143132492899895, 0.028234213590621948, -0.025336051359772682, -0.02077525667846203, -0.030354449525475502, 0.062325768172740936, 0.06711536645889282, -0.023170053958892822, 0.010730831883847713, -0.03200182691216469, -0.034289851784706116, -0.08432130515575409, 0.003241367172449827, 0.03371021896600723, -0.08096553385257721, 0.013362059369683266, -0.021522676572203636, 0.146555557847023, 0.05323468893766403, 0.0038762937765568495, 0.02879859320819378, 0.0005133753293193877, 0.004251910839229822, 0.04066580906510353, 0.006337826140224934, 0.04472323879599571, 0.013301045633852482, -0.024024249985814095, -0.015085703693330288, 0.0732167661190033, -0.006616202183067799, 0.02204129658639431, -0.04298434033989906, -0.010158825665712357, 0.07480312883853912, 0.02391747571527958, 0.04722481220960617, -0.0397811084985733, 0.01088336668908596, -0.022132817655801773, -0.2623600661754608, 0.018319444730877876, 0.008336033672094345, -0.003330981358885765, -0.034777961671352386, 0.023170053958892822, 0.038042210042476654, -0.05167883262038231, 0.10189332813024521, -0.009129215031862259, 0.0871889591217041, -0.059732675552368164, -0.008404674008488655, -0.03621178865432739, 0.017465248703956604, 0.023276828229427338, -0.014132360927760601, 0.016153447329998016, -0.010120691731572151, -0.022834477946162224, 0.0286002978682518, 0.023002266883850098, 0.043350424617528915, -0.04734684154391289, 0.04450969025492668, -0.05964115262031555, 0.14667758345603943, 0.0837111622095108, -0.020393919199705124, 0.02428355999290943, 0.036303311586380005, -0.028096932917833328, -0.00927412323653698, -0.11964838951826096, -0.025686880573630333, 0.07370487600564957, -0.03459491953253746, -0.06705435365438461, -0.09664613008499146, -0.02237687259912491, -0.012439223006367683, 0.013918811455368996, -0.04106239974498749, -0.004038361832499504, -0.024237798526883125, -0.07492515444755554, -0.05274657532572746, 0.00983087532222271, -0.052197448909282684, -0.012355328537523746, -0.011577400378882885, 0.022361619397997856, 0.057292114943265915, 0.059885211288928986, 0.019265159964561462, -0.046004533767700195, 0.0014805421233177185, -0.0005257687880657613, -0.011585026979446411, 0.03242892399430275, -0.014750126749277115, -0.022285351529717445, 0.015924645587801933, -0.03666939586400986, 0.011661294847726822, 0.03499151021242142, -0.061074983328580856, -0.024725910276174545, 0.04978739842772484, -0.01749575510621071, -0.01798386685550213, -0.03566266596317291, 0.021095579490065575, -0.016580546274781227, 0.036242298781871796, 0.014216254465281963, -0.004675195552408695, -0.023414110764861107, -0.03962857276201248, -0.028203707188367844, -0.005449309945106506, 0.01153926644474268, 0.05832935497164726, 0.01423150859773159, 0.03270348906517029, 0.054088883101940155, 0.06473582237958908, 0.007668693084269762, 0.0355711430311203, -0.016092434525489807, -0.012912081554532051, 0.041184429079294205, -0.005357789341360331, -0.06973896920681, 0.011218943633139133, 0.016153447329998016, -0.2950635552406311, 0.02783762291073799, -0.0030812055338174105, 0.02135488949716091, 0.004103189334273338, 0.021019311621785164, 0.04103189334273338, -0.00025263597490265965, -0.057444650679826736, 0.02246839366853237, -0.07754875719547272, 0.020317651331424713, 0.016199208796024323, -0.0669323205947876, 0.0008222585893236101, 0.020210877060890198, -0.002402425045147538, -0.011142675764858723, 0.017053404822945595, -0.019707512110471725, 0.002030621049925685, 0.02225484512746334, 0.22977860271930695, -0.02309378795325756, 0.05668197572231293, 0.039018433541059494, -0.00917497556656599, 0.004545540548861027, 0.05497358739376068, 0.019173638895154, -0.09823249280452728, -9.521516039967537e-05, 0.03166624903678894, -0.015650082379579544, 0.035479623824357986, 0.01098251435905695, -0.0683356449007988, -0.028905367478728294, 0.023749686777591705, -0.05308215320110321, -0.02503097988665104, 0.022498900070786476, -0.04591301083564758, 0.07028809189796448, 0.034564413130283356, -0.07706063985824585, -0.013438326306641102, -0.049055229872465134, -0.003981161396950483, 0.037218522280454636, -0.02817320078611374, -0.07968424260616302, 0.005636165384203196, 0.03200182691216469, -0.030461223796010017, 0.015009436756372452, 0.014658605679869652, -0.00893091969192028, 0.016168702393770218, -0.06357655674219131, 0.02120235376060009, -0.006177664268761873, 0.04936030134558678, 0.02281922474503517, 0.026068218052387238]\n"
     ]
    }
   ],
   "source": [
    "output = client.embeddings.create(input=[\"Hello world\"], model=model_name)\n",
    "embedding = output.data[0].embedding\n",
    "print(embedding)"
   ]
  },
  {
   "cell_type": "code",
   "execution_count": 5,
   "id": "8d9fca10",
   "metadata": {},
   "outputs": [
    {
     "data": {
      "text/plain": [
       "384"
      ]
     },
     "execution_count": 5,
     "metadata": {},
     "output_type": "execute_result"
    }
   ],
   "source": [
    "len(embedding)"
   ]
  },
  {
   "cell_type": "markdown",
   "id": "178591c7",
   "metadata": {},
   "source": [
    "# Wrangle Dataset"
   ]
  },
  {
   "cell_type": "code",
   "execution_count": 6,
   "id": "50f7c733",
   "metadata": {},
   "outputs": [],
   "source": [
    "df = pd.read_json(\"products/products.jsonl\", lines=True)"
   ]
  },
  {
   "cell_type": "code",
   "execution_count": 7,
   "id": "0de8ed6a",
   "metadata": {},
   "outputs": [
    {
     "data": {
      "text/html": [
       "<div>\n",
       "<style scoped>\n",
       "    .dataframe tbody tr th:only-of-type {\n",
       "        vertical-align: middle;\n",
       "    }\n",
       "\n",
       "    .dataframe tbody tr th {\n",
       "        vertical-align: top;\n",
       "    }\n",
       "\n",
       "    .dataframe thead th {\n",
       "        text-align: right;\n",
       "    }\n",
       "</style>\n",
       "<table border=\"1\" class=\"dataframe\">\n",
       "  <thead>\n",
       "    <tr style=\"text-align: right;\">\n",
       "      <th></th>\n",
       "      <th>name</th>\n",
       "      <th>category</th>\n",
       "      <th>description</th>\n",
       "      <th>ingredients</th>\n",
       "      <th>price</th>\n",
       "      <th>rating</th>\n",
       "      <th>image_path</th>\n",
       "    </tr>\n",
       "  </thead>\n",
       "  <tbody>\n",
       "    <tr>\n",
       "      <th>0</th>\n",
       "      <td>Cappuccino</td>\n",
       "      <td>Coffee</td>\n",
       "      <td>A rich and creamy cappuccino made with freshly...</td>\n",
       "      <td>[Espresso, Steamed Milk, Milk Foam]</td>\n",
       "      <td>4.50</td>\n",
       "      <td>4.7</td>\n",
       "      <td>cappuccino.jpg</td>\n",
       "    </tr>\n",
       "    <tr>\n",
       "      <th>1</th>\n",
       "      <td>Jumbo Savory Scone</td>\n",
       "      <td>Bakery</td>\n",
       "      <td>Deliciously flaky and buttery, this jumbo savo...</td>\n",
       "      <td>[Flour, Butter, Cheese, Herbs, Baking Powder, ...</td>\n",
       "      <td>3.25</td>\n",
       "      <td>4.3</td>\n",
       "      <td>SavoryScone.webp</td>\n",
       "    </tr>\n",
       "  </tbody>\n",
       "</table>\n",
       "</div>"
      ],
      "text/plain": [
       "                 name category  \\\n",
       "0          Cappuccino   Coffee   \n",
       "1  Jumbo Savory Scone   Bakery   \n",
       "\n",
       "                                         description  \\\n",
       "0  A rich and creamy cappuccino made with freshly...   \n",
       "1  Deliciously flaky and buttery, this jumbo savo...   \n",
       "\n",
       "                                         ingredients  price  rating  \\\n",
       "0                [Espresso, Steamed Milk, Milk Foam]   4.50     4.7   \n",
       "1  [Flour, Butter, Cheese, Herbs, Baking Powder, ...   3.25     4.3   \n",
       "\n",
       "         image_path  \n",
       "0    cappuccino.jpg  \n",
       "1  SavoryScone.webp  "
      ]
     },
     "execution_count": 7,
     "metadata": {},
     "output_type": "execute_result"
    }
   ],
   "source": [
    "df.head(2)"
   ]
  },
  {
   "cell_type": "code",
   "execution_count": 8,
   "id": "5fdc927c",
   "metadata": {},
   "outputs": [],
   "source": [
    "df['text'] = df['name'] + \" : \" + df[\"description\"] +\\\n",
    "    \" -- Ingredients: \" + df[\"ingredients\"].astype(str) +\\\n",
    "    \" -- Price: \" + df[\"price\"].astype(str) +\\\n",
    "    \" -- rating: \" + df[\"rating\"].astype(str)"
   ]
  },
  {
   "cell_type": "code",
   "execution_count": 9,
   "id": "a9f6180c",
   "metadata": {},
   "outputs": [
    {
     "data": {
      "text/plain": [
       "0    Cappuccino : A rich and creamy cappuccino made...\n",
       "1    Jumbo Savory Scone : Deliciously flaky and but...\n",
       "Name: text, dtype: object"
      ]
     },
     "execution_count": 9,
     "metadata": {},
     "output_type": "execute_result"
    }
   ],
   "source": [
    "df['text'].head(2)"
   ]
  },
  {
   "cell_type": "code",
   "execution_count": 10,
   "id": "10f32cdc",
   "metadata": {},
   "outputs": [],
   "source": [
    "texts = df['text'].tolist()"
   ]
  },
  {
   "cell_type": "code",
   "execution_count": 11,
   "metadata": {},
   "outputs": [],
   "source": [
    "with open(\"products/Merry's_way_about_us.txt\") as f:\n",
    "    Merry_way_about_section = f.read()\n",
    "\n",
    "Merry_way_about_section = \"Coffee shop Merry's Way about section: \" + Merry_way_about_section\n",
    "texts.append(Merry_way_about_section)"
   ]
  },
  {
   "cell_type": "code",
   "execution_count": 12,
   "id": "f3b15ee2",
   "metadata": {},
   "outputs": [],
   "source": [
    "with open(\"products/menu_items_text.txt\") as f:\n",
    "    menu_items_text = f.read()\n",
    "\n",
    "menu_items_text = \"Menu Items: \" + menu_items_text\n",
    "texts.append(menu_items_text)"
   ]
  },
  {
   "cell_type": "code",
   "execution_count": null,
   "id": "9ea25a7c",
   "metadata": {},
   "outputs": [],
   "source": []
  },
  {
   "cell_type": "markdown",
   "id": "a0443d7d",
   "metadata": {},
   "source": [
    "# Generate Embeddings"
   ]
  },
  {
   "cell_type": "code",
   "execution_count": 13,
   "id": "de4bae41",
   "metadata": {},
   "outputs": [],
   "source": [
    "output = client.embeddings.create(input = texts,model=model_name)"
   ]
  },
  {
   "cell_type": "code",
   "execution_count": 14,
   "id": "1f3a3bd5",
   "metadata": {},
   "outputs": [],
   "source": [
    "embeddings = output.data"
   ]
  },
  {
   "cell_type": "code",
   "execution_count": null,
   "id": "a57bd7e7",
   "metadata": {},
   "outputs": [],
   "source": []
  },
  {
   "cell_type": "markdown",
   "id": "47753e93",
   "metadata": {},
   "source": [
    "# Push data to database"
   ]
  },
  {
   "cell_type": "code",
   "execution_count": null,
   "id": "833a6a60",
   "metadata": {},
   "outputs": [],
   "source": [
    "index_name = \"coffeeshop\"\n",
    "\n",
    "pc.create_index(\n",
    "    name=index_name,\n",
    "    dimension=384,\n",
    "    metric=\"cosine\",\n",
    "    spec=ServerlessSpec(\n",
    "        cloud=\"aws\",\n",
    "        region=\"us-east-1\"\n",
    "    ) \n",
    ")\n"
   ]
  },
  {
   "cell_type": "code",
   "execution_count": 16,
   "id": "b763fe2b",
   "metadata": {},
   "outputs": [
    {
     "data": {
      "text/plain": [
       "{'upserted_count': 20}"
      ]
     },
     "execution_count": 16,
     "metadata": {},
     "output_type": "execute_result"
    }
   ],
   "source": [
    "# Wait for the index to be ready\n",
    "while not pc.describe_index(index_name).status['ready']:\n",
    "    time.sleep(1)\n",
    "\n",
    "index = pc.Index(index_name)\n",
    "\n",
    "vectors = []\n",
    "for text, e in zip(texts, embeddings):\n",
    "    entry_id = text.split(\":\")[0].strip()\n",
    "    vectors.append({\n",
    "        \"id\": entry_id,\n",
    "        \"values\": e.embedding,\n",
    "        \"metadata\": {'text': text}\n",
    "    })\n",
    "\n",
    "index.upsert(\n",
    "    vectors=vectors,\n",
    "    namespace=\"ns1\"\n",
    ")"
   ]
  },
  {
   "cell_type": "code",
   "execution_count": null,
   "id": "544e72f6",
   "metadata": {},
   "outputs": [],
   "source": []
  },
  {
   "cell_type": "markdown",
   "id": "991e2d00",
   "metadata": {},
   "source": [
    "# Get Closest documents"
   ]
  },
  {
   "cell_type": "code",
   "execution_count": 17,
   "id": "4a73b96a",
   "metadata": {},
   "outputs": [],
   "source": [
    "output = client.embeddings.create(input = [\"Is Cappuccino lactose-free?\"],model=model_name)\n",
    "embedding = output.data[0].embedding"
   ]
  },
  {
   "cell_type": "code",
   "execution_count": 18,
   "id": "e60cf7d4",
   "metadata": {},
   "outputs": [
    {
     "name": "stdout",
     "output_type": "stream",
     "text": [
      "{'matches': [], 'namespace': 'ns1', 'usage': {'read_units': 1}}\n"
     ]
    }
   ],
   "source": [
    "results = index.query(\n",
    "    namespace=\"ns1\",\n",
    "    vector=embedding,\n",
    "    top_k=3,\n",
    "    include_values=False,\n",
    "    include_metadata=True\n",
    ")\n",
    "\n",
    "print(results)"
   ]
  },
  {
   "cell_type": "code",
   "execution_count": 19,
   "id": "f74f47a2",
   "metadata": {},
   "outputs": [
    {
     "data": {
      "text/plain": [
       "{'matches': [], 'namespace': 'ns1', 'usage': {'read_units': 1}}"
      ]
     },
     "execution_count": 19,
     "metadata": {},
     "output_type": "execute_result"
    }
   ],
   "source": [
    "results"
   ]
  },
  {
   "cell_type": "code",
   "execution_count": null,
   "id": "ebdb2c8b",
   "metadata": {},
   "outputs": [],
   "source": []
  }
 ],
 "metadata": {
  "kernelspec": {
   "display_name": "base",
   "language": "python",
   "name": "python3"
  },
  "language_info": {
   "codemirror_mode": {
    "name": "ipython",
    "version": 3
   },
   "file_extension": ".py",
   "mimetype": "text/x-python",
   "name": "python",
   "nbconvert_exporter": "python",
   "pygments_lexer": "ipython3",
   "version": "3.12.7"
  }
 },
 "nbformat": 4,
 "nbformat_minor": 5
}
